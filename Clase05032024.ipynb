{
  "nbformat": 4,
  "nbformat_minor": 0,
  "metadata": {
    "colab": {
      "provenance": [],
      "authorship_tag": "ABX9TyO1C80SYqjbQ9oZm71S/VHC",
      "include_colab_link": true
    },
    "kernelspec": {
      "name": "python3",
      "display_name": "Python 3"
    },
    "language_info": {
      "name": "python"
    }
  },
  "cells": [
    {
      "cell_type": "markdown",
      "metadata": {
        "id": "view-in-github",
        "colab_type": "text"
      },
      "source": [
        "<a href=\"https://colab.research.google.com/github/DSilvia08/Simulaci-n-1/blob/main/Clase05032024.ipynb\" target=\"_parent\"><img src=\"https://colab.research.google.com/assets/colab-badge.svg\" alt=\"Open In Colab\"/></a>"
      ]
    },
    {
      "cell_type": "code",
      "execution_count": null,
      "metadata": {
        "id": "qfEc0lcIm13w"
      },
      "outputs": [],
      "source": [
        "R=0\n",
        "m=i31\n",
        "x_n=21\n",
        "a=21\n",
        "c=15\n",
        "\n",
        "print(\"{:<8} {:<10} {:<10} {:<8} {:<15}\".format(\"n\", \"x_n\", \"ax_n+c\", \"ax_n+c%m\", \"x_n/m\"))\n",
        "\n",
        "for n in range(0,32):\n",
        "  P=(a*x_n) + c\n",
        "  M=P%m\n",
        "  N=x_n/m\n",
        "  d=[[n, x_n, P, M, N]]\n",
        "  print(\"{:<8} {:<10} {:<10} {:<8} {:<15}\".format(n, x_n, P, M, N))\n",
        "  x_n=M"
      ]
    },
    {
      "cell_type": "code",
      "source": [
        "R=0\n",
        "m=128\n",
        "x_n=7\n",
        "a=13\n",
        "c=9\n",
        "\n",
        "print(\"{:<8} {:<10} {:<10} {:<8} {:<15}\".format(\"n\", \"x_n\", \"ax_n+c\", \"ax_n+c%m\", \"x_n/m\"))\n",
        "\n",
        "for n in range(0,129):\n",
        "  P=(a*x_n) + c\n",
        "  M=P%m\n",
        "  N=x_n/m\n",
        "  d=[[n, x_n, P, M, N]]\n",
        "  print(\"{:<8} {:<10} {:<10} {:<8} {:<15}\".format(n, x_n, P, M, N))\n",
        "  x_n=M"
      ],
      "metadata": {
        "id": "MifxD4pjnRGZ"
      },
      "execution_count": null,
      "outputs": []
    },
    {
      "cell_type": "code",
      "source": [
        "R=0\n",
        "print(\"Método de Congruencia\")\n",
        "m=31\n",
        "x_n=23\n",
        "a=17\n",
        "c=0\n",
        "\n",
        "print(\"{:<8} {:<10} {:<10} {:<8} {:<15}\".format(\"n\", \"x_n\", \"ax_n+c\", \"ax_n+c%m\", \"x_n/m\"))\n",
        "\n",
        "for n in range(0,32):\n",
        "  P=(a*x_n) + c\n",
        "  M=P%m\n",
        "  N=x_n/m\n",
        "  d=[[n, x_n, P, M, N]]\n",
        "  print(\"{:<8} {:<10} {:<10} {:<8} {:<15}\".format(n, x_n, P, M, N))\n",
        "  x_n=M"
      ],
      "metadata": {
        "id": "sedOc9YUnVLw"
      },
      "execution_count": null,
      "outputs": []
    },
    {
      "cell_type": "code",
      "source": [
        "R=0\n",
        "m=256\n",
        "x_n=17\n",
        "a=1\n",
        "c=121\n",
        "\n",
        "print(\"{:<8} {:<10} {:<10} {:<8} {:<15}\".format(\"n\", \"x_n\", \"ax_n+c\", \"ax_n+c%m\", \"x_n/m\"))\n",
        "\n",
        "for n in range(0,257):\n",
        "  P=(a*x_n) + c\n",
        "  M=P%m\n",
        "  N=x_n/m\n",
        "  d=[[n, x_n, P, M, N]]\n",
        "  print(\"{:<8} {:<10} {:<10} {:<8} {:<15}\".format(n, x_n, P, M, N))\n",
        "  x_n=M"
      ],
      "metadata": {
        "id": "0R1xNtvqnXUl"
      },
      "execution_count": null,
      "outputs": []
    },
    {
      "cell_type": "code",
      "source": [
        "R=0\n",
        "m=64\n",
        "x_n=17\n",
        "a=1\n",
        "c=121\n",
        "\n",
        "print(\"{:<8} {:<10} {:<10} {:<8} {:<15}\".format(\"n\", \"x_n\", \"ax_n+c\", \"ax_n+c%m\", \"x_n/m\"))\n",
        "\n",
        "for n in range(0,65):\n",
        "  P=(a*x_n) + c\n",
        "  M=P%m\n",
        "  N=x_n/m\n",
        "  d=[[n, x_n, P, M, N]]\n",
        "  print(\"{:<8} {:<10} {:<10} {:<8} {:<15}\".format(n, x_n, P, M, N))\n",
        "  x_n=M"
      ],
      "metadata": {
        "id": "a5vLNChxPPCc"
      },
      "execution_count": null,
      "outputs": []
    },
    {
      "cell_type": "code",
      "source": [
        "\"Ejercicio 2\""
      ],
      "metadata": {
        "id": "-gh84knjnbin"
      },
      "execution_count": null,
      "outputs": []
    },
    {
      "cell_type": "code",
      "source": [
        "\"Ejercicio 3\"\n",
        "L=[0.8797, 0.3884, 0.6289, 0.8750, 0.5999, 0.8589, 0.9996, 0.2415, 0.3808, 0.9606,\n",
        "0.9848, 0.3469, 0.7977, 0.5844, 0.8147, 0.6431, 0.7387, 0.5613, 0.0318, 0.7401,\n",
        "0.4557, 0.1592, 0.8536, 0.8846, 0.3410, 0.1492, 0.8681, 0.5291, 0.3188, 0.5992,\n",
        "0.9170, 0.2204, 0.5991, 0.5461, 0.5739, 0.3254, 0.0856, 0.2258, 0.4603, 0.5027,\n",
        "0.8376, 0.6235, 0.3681, 0.2088, 0.1525, 0.2006, 0.4720, 0.4272, 0.6360, 0.0954]\n",
        "Ld=[]\n",
        "Lt=[]\n",
        "Lc=[]\n",
        "Lci=[]\n",
        "Ls=[]\n",
        "\n",
        "for n in L:\n",
        "  if n<0.2:\n",
        "    Ld+=n\n",
        "  if (n>=0.20)^(n<0.40):\n",
        "    Lt+=n\n",
        "  if (n>=0.40)^(n<0.60):\n",
        "    Lc+=n\n",
        "  if (n>=0.60)^(n<0.80):\n",
        "    Lci+=n\n",
        "  else:\n",
        "    Ls+=n\n"
      ],
      "metadata": {
        "id": "yJo1o7KpngLN"
      },
      "execution_count": null,
      "outputs": []
    }
  ]
}