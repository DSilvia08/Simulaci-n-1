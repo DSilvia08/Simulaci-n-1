{
  "nbformat": 4,
  "nbformat_minor": 0,
  "metadata": {
    "colab": {
      "provenance": [],
      "authorship_tag": "ABX9TyOASCWtOoXgPPh8Rao/LZwJ"
    },
    "kernelspec": {
      "name": "python3",
      "display_name": "Python 3"
    },
    "language_info": {
      "name": "python"
    }
  },
  "cells": [
    {
      "cell_type": "code",
      "execution_count": 9,
      "metadata": {
        "colab": {
          "base_uri": "https://localhost:8080/"
        },
        "id": "uLAa-aRd2VHv",
        "outputId": "1c6dab5d-44d6-4b60-ad6e-3355f781d130"
      },
      "outputs": [
        {
          "output_type": "stream",
          "name": "stdout",
          "text": [
            "Ingresar un número entero de 4 dígitos: 2024\n",
            "[4, 0, 9, 6, 5, 7, 6]\n",
            "[0, 4, 0, 9, 6, 5, 7, 6]\n",
            "[0, 9, 6, 5]\n",
            "0965\n"
          ]
        }
      ],
      "source": [
        "a=int((input(\"Ingresar un número entero de 4 dígitos: \")))\n",
        "x= a**2\n",
        "R = [int(x) for x in str(x)]\n",
        "print(R)\n",
        "\n",
        "if len(R)%2==0:\n",
        "  R\n",
        "else:\n",
        "   b=[0]\n",
        "   S=b+R\n",
        "\n",
        "print(S)\n",
        "Z=S[2:6]\n",
        "print(Z)\n",
        "s = ''.join(str(x) for x in Z)\n",
        "\n",
        "print(s)"
      ]
    },
    {
      "cell_type": "code",
      "source": [],
      "metadata": {
        "id": "kOBX_3qpoPYD"
      },
      "execution_count": null,
      "outputs": []
    }
  ]
}