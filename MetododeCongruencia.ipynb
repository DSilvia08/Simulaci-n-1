{
  "nbformat": 4,
  "nbformat_minor": 0,
  "metadata": {
    "colab": {
      "provenance": [],
      "authorship_tag": "ABX9TyMVpxPkH62BI/jiA243+ZGc"
    },
    "kernelspec": {
      "name": "python3",
      "display_name": "Python 3"
    },
    "language_info": {
      "name": "python"
    }
  },
  "cells": [
    {
      "cell_type": "code",
      "execution_count": null,
      "metadata": {
        "id": "eAeJXw6TKrRS"
      },
      "outputs": [],
      "source": [
        "R=0\n",
        "print(\"Método de Congruencia\")\n",
        "m=int(input(\"Ingrese un valor para m: \"))\n",
        "x_n=int(input(\"Ingrese un número menor que m y mayor que 0: \"))\n",
        "a=int(input(\"Ingrese un valor para a: \"))\n",
        "c=int(input(\"Ingrese un valor para c: \"))\n",
        "\n",
        "print(\"{:<8} {:<10} {:<10} {:<8} {:<15}\".format(\"n\", \"x_n\", \"ax_n+c\", \"ax_n+c % m\", \"x_n/m\"))\n",
        "\n",
        "for n in range(0,50):\n",
        "  P=(a*x_n) + c\n",
        "  M=P%m\n",
        "  N=x_n/m\n",
        "  d=[[n, x_n, P, M, N]]\n",
        "  print(\"{:<8} {:<10} {:<10} {:<8} {:<15}\".format(n, x_n, P, M, N))\n",
        "  x_n=M\n",
        "\n",
        "\n",
        "\n",
        "\n"
      ]
    }
  ]
}