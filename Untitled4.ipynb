{
  "nbformat": 4,
  "nbformat_minor": 0,
  "metadata": {
    "colab": {
      "provenance": [],
      "authorship_tag": "ABX9TyM3z3VXiMlvSqQ8UjntH06l"
    },
    "kernelspec": {
      "name": "python3",
      "display_name": "Python 3"
    },
    "language_info": {
      "name": "python"
    }
  },
  "cells": [
    {
      "cell_type": "code",
      "source": [
        "import numpy as np\n",
        "import random as rnd"
      ],
      "metadata": {
        "id": "92Eh5wrAJmeu"
      },
      "execution_count": 1,
      "outputs": []
    },
    {
      "cell_type": "code",
      "execution_count": 5,
      "metadata": {
        "id": "VMnXV8icJFkQ"
      },
      "outputs": [],
      "source": [
        "def F_u(n,u_1,u_2) : #Devuelve una lista con los valores de la función inversa\n",
        " if 0<u_1<1/2: #intervalo de [0,1/2)\n",
        "   x=(np.log(2*u_2))/2\n",
        " else: #intervalo de [1/2,1]\n",
        "   x=-np.log((2*u_1)-1)/2\n",
        " return x"
      ]
    },
    {
      "cell_type": "code",
      "source": [
        "n=10000\n",
        "Lista=[]\n",
        "for i in range(n):\n",
        "  u_1=rnd.random()#Generar dos números aleatorios U(0,1)\n",
        "  u_2=rnd.random()\n",
        "  L=F_u(n,u_1,u_2)\n",
        "  Lista.append(L)"
      ],
      "metadata": {
        "id": "Qj9zp0EHJVxX"
      },
      "execution_count": 6,
      "outputs": []
    }
  ]
}