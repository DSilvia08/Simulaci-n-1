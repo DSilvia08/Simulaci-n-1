{
  "nbformat": 4,
  "nbformat_minor": 0,
  "metadata": {
    "colab": {
      "provenance": [],
      "authorship_tag": "ABX9TyP10lsXsFTZ1wfOEt8BPTaa"
    },
    "kernelspec": {
      "name": "python3",
      "display_name": "Python 3"
    },
    "language_info": {
      "name": "python"
    }
  },
  "cells": [
    {
      "cell_type": "code",
      "execution_count": null,
      "metadata": {
        "id": "VMnXV8icJFkQ"
      },
      "outputs": [],
      "source": [
        "def Funcion_u(n) : #Devuelve una lista con los valores de la función inversa\n",
        " lista1=[]\n",
        " for i in range(n):\n",
        "  u_1=rnd.random()#Generar dos números aleatorios U(0,1)\n",
        "  u_2=rnd.random()\n",
        "  if 0<u_1<1/2: #intervalo de [0,1/2)\n",
        "   x=(np.log(2*u_2))/2\n",
        "   lista1.append(x)\n",
        "  else: #intervalo de [1/2,1]\n",
        "   x=-np.log((2*u_1)-1)/2\n",
        "   lista1.append(x)\n",
        " return lista1"
      ]
    }
  ]
}