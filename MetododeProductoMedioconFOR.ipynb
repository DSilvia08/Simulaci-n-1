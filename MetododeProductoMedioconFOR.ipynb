{
  "nbformat": 4,
  "nbformat_minor": 0,
  "metadata": {
    "colab": {
      "provenance": [],
      "authorship_tag": "ABX9TyNMCwToV694QM/+e244o7sH",
      "include_colab_link": true
    },
    "kernelspec": {
      "name": "python3",
      "display_name": "Python 3"
    },
    "language_info": {
      "name": "python"
    }
  },
  "cells": [
    {
      "cell_type": "markdown",
      "metadata": {
        "id": "view-in-github",
        "colab_type": "text"
      },
      "source": [
        "<a href=\"https://colab.research.google.com/github/DSilvia08/Simulaci-n-1/blob/main/MetododeProductoMedioconFOR.ipynb\" target=\"_parent\"><img src=\"https://colab.research.google.com/assets/colab-badge.svg\" alt=\"Open In Colab\"/></a>"
      ]
    },
    {
      "cell_type": "code",
      "execution_count": 3,
      "metadata": {
        "colab": {
          "base_uri": "https://localhost:8080/"
        },
        "id": "gRsPrQhDhJC7",
        "outputId": "fd0e97a0-6d58-4c48-d447-d8a580302ad4"
      },
      "outputs": [
        {
          "output_type": "stream",
          "name": "stdout",
          "text": [
            "Método de Producto medio\n",
            "Ingrese un número de 3 dígitos: 123\n",
            "Ingrese otro número de 3 dígitos: 456\n",
            "n        x_n        x_n+1      ax_n+c % m \n",
            "0        456        123        608     \n",
            "1        608        456        772     \n",
            "2        772        608        693     \n",
            "3        693        772        349     \n",
            "4        349        693        418     \n",
            "5        418        349        458     \n",
            "6        458        418        914     \n",
            "7        914        458        186     \n",
            "8        186        914        700     \n",
            "9        700        186        302     \n",
            "10       302        700        114     \n",
            "11       114        302        442     \n",
            "12       442        114        38      \n",
            "13       38         442        679     \n",
            "14       679        38         580     \n",
            "15       580        679        938     \n",
            "16       938        580        440     \n",
            "17       440        938        127     \n",
            "18       127        440        588     \n",
            "19       588        127        467     \n",
            "20       467        588        745     \n",
            "21       745        467        479     \n",
            "22       479        745        568     \n",
            "23       568        479        720     \n",
            "24       720        568        89      \n",
            "25       89         720        408     \n",
            "26       408        89         631     \n",
            "27       631        408        574     \n",
            "28       574        631        621     \n",
            "29       621        574        564     \n",
            "30       564        621        502     \n",
            "31       502        564        831     \n",
            "32       831        502        171     \n",
            "33       171        831        421     \n",
            "34       421        171        199     \n",
            "35       199        421        377     \n",
            "36       377        199        502     \n",
            "37       502        377        892     \n",
            "38       892        502        477     \n",
            "39       477        892        254     \n",
            "40       254        477        211     \n",
            "41       211        254        359     \n",
            "42       359        211        574     \n",
            "43       574        359        60      \n",
            "44       60         574        444     \n",
            "45       444        60         664     \n",
            "46       664        444        948     \n",
            "47       948        664        294     \n",
            "48       294        948        787     \n",
            "49       787        294        313     \n"
          ]
        }
      ],
      "source": [
        "print(\"Método de Producto medio\")\n",
        "x_n1=int(input(\"Ingrese un número de 3 dígitos: \"))\n",
        "x_n=int(input(\"Ingrese otro número de 3 dígitos: \"))\n",
        "\n",
        "print(\"{:<8} {:<10} {:<10} {:<8} \".format(\"n\", \"x_n\", \"x_n+1\", \"N\"))\n",
        "\n",
        "for n in range(0,50):\n",
        "  K= x_n * x_n1\n",
        "  D = [int(x) for x in str(K)]\n",
        "  b=[0]\n",
        "  if len(D)%2==0:\n",
        "    S=b+D\n",
        "    Z=S[2:5]\n",
        "    s = ''.join(str(x) for x in Z)\n",
        "    N=int(s)\n",
        "    print(\"{:<8} {:<10} {:<10} {:<8}\".format(n, x_n, x_n1, N))\n",
        "    x_n1=x_n\n",
        "    x_n=N\n",
        "  else:\n",
        "    Z=D[1:4]\n",
        "    s = ''.join(str(x) for x in Z)\n",
        "    N=int(s)\n",
        "    print(\"{:<8} {:<10} {:<10} {:<8}\".format(n, x_n, x_n1, N))\n",
        "    x_n1=x_n\n",
        "    x_n=N\n",
        ""
      ]
    }
  ]
}