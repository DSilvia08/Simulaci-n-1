{
  "nbformat": 4,
  "nbformat_minor": 0,
  "metadata": {
    "colab": {
      "provenance": [],
      "authorship_tag": "ABX9TyO7MIIWj9dlKKNDyKXjMuT5"
    },
    "kernelspec": {
      "name": "python3",
      "display_name": "Python 3"
    },
    "language_info": {
      "name": "python"
    }
  },
  "cells": [
    {
      "cell_type": "code",
      "execution_count": null,
      "metadata": {
        "id": "gRsPrQhDhJC7"
      },
      "outputs": [],
      "source": [
        "print(\"Método de Producto medio\")\n",
        "x_n1=int(input(\"Ingrese un número de 3 dígitos: \"))\n",
        "x_n=int(input(\"Ingrese otro número de 3 dígitos: \"))\n",
        "for n in range(0,50):\n",
        "  K= x_n * x_n1\n",
        "    D = [int(x) for x in str(K)]\n",
        "    b=[0]\n",
        "    if len(D)%2==0:\n",
        "      S=b+D\n",
        "      Z=S[2:5]\n",
        "      s = ''.join(str(x) for x in Z)\n",
        "      N=int(s)\n",
        "      x_n1=x_n\n",
        "      x_n=N\n",
        "    else:\n",
        "      Z=D[1:4]\n",
        "      s = ''.join(str(x) for x in Z)\n",
        "      N=int(s)\n",
        "      x_n1=x_n\n",
        "      x_n=N"
      ]
    }
  ]
}