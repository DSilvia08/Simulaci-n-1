{
  "nbformat": 4,
  "nbformat_minor": 0,
  "metadata": {
    "colab": {
      "provenance": [],
      "authorship_tag": "ABX9TyMjB53Tm1p6mDP3EPzifhqj",
      "include_colab_link": true
    },
    "kernelspec": {
      "name": "python3",
      "display_name": "Python 3"
    },
    "language_info": {
      "name": "python"
    }
  },
  "cells": [
    {
      "cell_type": "markdown",
      "metadata": {
        "id": "view-in-github",
        "colab_type": "text"
      },
      "source": [
        "<a href=\"https://colab.research.google.com/github/DSilvia08/Simulaci-n-1/blob/main/Untitled3.ipynb\" target=\"_parent\"><img src=\"https://colab.research.google.com/assets/colab-badge.svg\" alt=\"Open In Colab\"/></a>"
      ]
    },
    {
      "cell_type": "code",
      "execution_count": null,
      "metadata": {
        "id": "-8ZuOq_JNYSy"
      },
      "outputs": [],
      "source": [
        "#Del ejercicio 2 Problema 1 Realice una prueba de corridas con un nivel\n",
        "#de aceptación del 95 %\n",
        "L=[0.048, 0.591, 0.478, 0.166, 0.932, 0.926, 0.007, 0.551, 0.362, 0.533, 0.368,\n",
        "   0.437, 0.178, 0.411, 0.545, 0.787, 0.594, 0.086, 0.951, 0.772,\n",
        "   0.298, 0.199, 0.157, 0.401, 0.631]\n",
        "print(\"Prueba de Corridas\") #Es una prueba de independencia\n",
        "k=len(L)\n",
        "S=[]"
      ]
    },
    {
      "cell_type": "code",
      "source": [
        "#Paso 1 Determinar una secuencias de unos y ceros\n",
        "a=1\n",
        "b=0\n",
        "while (a<k and b<=(k-1)):\n",
        "  u=L[a]-L[b]\n",
        "  if u<=0:\n",
        "    S.append(0) #se agrega un 0\n",
        "    a+=1\n",
        "    b+=1\n",
        "  else:\n",
        "    S.append(1) #se agrega 1 en caso contrario\n",
        "    a+=1\n",
        "    b+=1"
      ],
      "metadata": {
        "id": "wWXP2UyWNeZ_"
      },
      "execution_count": null,
      "outputs": []
    },
    {
      "cell_type": "code",
      "source": [
        "#Paso 2 Hallar el número de corridas observadas\n",
        "c=0\n",
        "if S[0]==1:\n",
        "  c+=1\n",
        "else:\n",
        "  c+=1\n",
        "for n in S:\n",
        "  if S[n+1] != S[n]:\n",
        "    c+=1\n",
        "  else:\n",
        "    c+=0\n",
        "c+=1 #se suma 1 más porque el ciclo cuenta n-1 rachas\n",
        "j=[\"----\"] #como el conteo de rachas comienza con el segundo dato,\n",
        "#en la primera fila le agreagré estas lineas\n",
        "S=j+S # en la primera fila le agreagré estas lineas"
      ],
      "metadata": {
        "id": "tSLUbYOANiJP"
      },
      "execution_count": null,
      "outputs": []
    },
    {
      "cell_type": "code",
      "source": [
        "#Tabla\n",
        "!pip install prettytable\n",
        "from prettytable import PrettyTable\n",
        "myTable = PrettyTable([\"n\",\"X_i\",\"i_rachas\"])#encabezado de la tabla\n",
        "for x in range(k):\n",
        "  myTable.add_row([x,L[x],S[x]])#datos\n",
        "print(myTable)\n",
        "print(\"\")\n",
        "#Hipótesis\n",
        "print(\"H_o = Los números de la muestra son independientes\")\n",
        "print(\"H_a = Los números de la muestra no son independientes\")"
      ],
      "metadata": {
        "id": "X-PCk2RuNq2y"
      },
      "execution_count": null,
      "outputs": []
    },
    {
      "cell_type": "code",
      "source": [
        "#Caculamos la media, varianza y Z\n",
        "media=((2*k)-1)/3\n",
        "varianza=((16*k)-29)/90\n",
        "from math import sqrt\n",
        "Z=(c-media)/sqrt(varianza)\n",
        "#como C_0...N(media, distribución estandar) es equivalente a Z_0...N(0,1)\n",
        "m=float(input(\"Nivel de aceptación: \")) #nivel de aceptación\n",
        "from scipy.stats import norm\n",
        "n_sd=(1-m)/2 #nivel de significancia entre 2\n",
        "N=1-n_sd #probabilidad acumulada\n",
        "valor_z=norm.ppf(N)#la funcion norm.ppf sirve para calcular el valor Z\n",
        "#correspondiente a una probabilidad acumulada\n",
        "print(\"Rachas observadas: \", c)\n",
        "print(\"media\", round(media,4))\n",
        "print(\"varianza\", round(varianza,4))\n",
        "print(\"Valor z en N(0,1)\", round(valor_z,2))\n",
        "print(\"Valor de Z_o\", round(Z,4))"
      ],
      "metadata": {
        "id": "b7e8eNGFNurk"
      },
      "execution_count": null,
      "outputs": []
    },
    {
      "cell_type": "code",
      "source": [
        "if valor_z*(-1)<Z and Z<valor_z:\n",
        "  print(round(valor_z*(-1),2),\"<\",Z,\"<\",round(valor_z,2))\n",
        "  print(\"H_o se acepta\")\n",
        "else:\n",
        "  print(\"H_o se rechaza\")"
      ],
      "metadata": {
        "id": "uQ0aXUV4NyLg"
      },
      "execution_count": null,
      "outputs": []
    }
  ]
}