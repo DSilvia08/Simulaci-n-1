{
  "nbformat": 4,
  "nbformat_minor": 0,
  "metadata": {
    "colab": {
      "provenance": [],
      "authorship_tag": "ABX9TyOmIqPcf6y25+DAm8g9Lmv+",
      "include_colab_link": true
    },
    "kernelspec": {
      "name": "python3",
      "display_name": "Python 3"
    },
    "language_info": {
      "name": "python"
    }
  },
  "cells": [
    {
      "cell_type": "markdown",
      "metadata": {
        "id": "view-in-github",
        "colab_type": "text"
      },
      "source": [
        "<a href=\"https://colab.research.google.com/github/DSilvia08/Simulaci-n-1/blob/main/Prueba_K_S.ipynb\" target=\"_parent\"><img src=\"https://colab.research.google.com/assets/colab-badge.svg\" alt=\"Open In Colab\"/></a>"
      ]
    },
    {
      "cell_type": "code",
      "execution_count": null,
      "metadata": {
        "id": "QtbrI0KAI9eL"
      },
      "outputs": [],
      "source": [
        "#Prueba Kolmogorov-Smirnov\n",
        "#Tomando el ejercicio 1. Problema 4 Determine si la siguiente lista de 100 números de 2 dígitos tiene una distribución uniforme con un nivel de aceptación de 90 %.\n",
        "L=[0.78, 0.98, 0.24, 0.73, 0.43, 0.16, 0.78, 0.47, 0.18, 0.55,\n",
        "0.04, 0.29, 0.68, 0.77, 0.16, 0.03, 0.79, 0.22, 0.37, 0.80,\n",
        "0.96, 0.26, 0.91, 0.55, 0.75, 0.55, 0.64, 0.39, 0.53, 0.45,\n",
        "0.61, 0.14, 0.38, 0.12, 0.40, 0.74, 0.78, 0.98, 0.27, 0.60,\n",
        "0.43, 0.67, 0.62, 0.32, 0.53, 0.54, 0.24, 0.29, 0.18, 0.08,\n",
        "0.82, 0.94, 0.19, 0.98, 0.41, 1.00, 0.74, 0.92, 0.14, 0.43,\n",
        "0.83, 0.88, 0.18, 0.21, 0.50, 0.13, 0.43, 0.69, 0.08, 0.12,\n",
        "0.22, 0.50, 0.16, 0.11, 0.18, 0.89, 0.80, 0.42, 0.29, 0.87,\n",
        "0.83, 0.79, 0.65, 0.28, 0.78, 0.49, 0.36, 0.86, 0.87, 0.64,\n",
        "0.51, 0.07, 0.18, 0.94, 0.50, 0.22, 0.66, 0.91, 0.48, 0.24]\n",
        "#1. Ordenar de menor a mayor los números aleatorios\n",
        "L.sort()\n",
        "j=len(L) #tamaño de la lista\n",
        "#2.\n",
        "#Calcular D+ max 1<i<n |i/n-x_i|\n",
        "DM=[]\n",
        "i=0\n",
        "for n in L:\n",
        "  S=abs(((i/j)-n))\n",
        "  DM.append(round(S,4))\n",
        "  i=i+1\n",
        "#D- max 1<i<n  |x_i- (i-n)/n|\n",
        "k=0\n",
        "Dm=[]\n",
        "for n in L:\n",
        "  S=abs((n-((k-1)/j)))\n",
        "  Dm.append(round(S,4))\n",
        "  k=k+1"
      ]
    },
    {
      "cell_type": "code",
      "source": [],
      "metadata": {
        "id": "coPxuqqXmkjq"
      },
      "execution_count": null,
      "outputs": []
    },
    {
      "cell_type": "code",
      "source": [
        "#Tabla\n",
        "!pip install prettytable\n",
        "from prettytable import PrettyTable\n",
        "myTable = PrettyTable([\"i\",\"X_i\", \"D+\", \"D-\"])\n",
        "\n",
        "h=1\n",
        "for x in range (j):\n",
        "  myTable.add_row([h,L[x],DM[x],Dm[x]])#datos\n",
        "  h=h+1\n",
        "print(myTable)\n",
        "\n",
        "Y=max(DM)\n",
        "print(\"D+ = \", Y)\n",
        "Z=max(Dm)\n",
        "print(\"D- = \", Z)\n",
        "\n",
        "#D= max {D+,D-}\n",
        "D=max(Y,Z)\n",
        "print(\"D= max {D+,D-} : \", D)\n",
        "\n",
        "#3. Comparamos con el valor d_on\n",
        "W=float(input(\"Escriba el nivel de aceptación: \"))\n",
        "#nivel de significancia\n",
        "n_s=round(1-W,2)\n",
        "print(\"Nivel de significancia: \", n_s)\n",
        "#Tabla de Lilliefors\n",
        "from math import sqrt\n",
        "if n_s==0.20:\n",
        "  valor=0.724265/sqrt(j)\n",
        "if n_s==0.15:\n",
        "  valor=0.758905/sqrt(j)\n",
        "if n_s==0.10:\n",
        "  valor=0.8043545/sqrt(j)\n",
        "if n_s==0.05:\n",
        "  valor=0.875897/sqrt(j)\n",
        "if n_s==0.01:\n",
        "  valor=1.0210785/sqrt(j)\n",
        "\n",
        "print(\"\")\n",
        "print(\"H_o = los datos proceden de una distribución normal\")\n",
        "print(\"H_a = los datos no proceden de una distribución normal\")\n",
        "print(\"\")\n",
        "#se acepta si D<d_on\n",
        "if D<valor:\n",
        "  print(D, \" < \", round(valor,4) )\n",
        "  print(\"Se acepta H_o\")\n",
        "else:\n",
        "  print(\"Se rechaza H_o\")"
      ],
      "metadata": {
        "id": "k0LOBqPWJiTq"
      },
      "execution_count": null,
      "outputs": []
    }
  ]
}