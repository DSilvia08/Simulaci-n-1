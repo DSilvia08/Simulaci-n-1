{
  "nbformat": 4,
  "nbformat_minor": 0,
  "metadata": {
    "colab": {
      "provenance": [],
      "authorship_tag": "ABX9TyPUpNb5ore/t9lSx/Yp/8pR"
    },
    "kernelspec": {
      "name": "python3",
      "display_name": "Python 3"
    },
    "language_info": {
      "name": "python"
    }
  },
  "cells": [
    {
      "cell_type": "code",
      "execution_count": 1,
      "metadata": {
        "id": "TVRVJskAs2FZ",
        "colab": {
          "base_uri": "https://localhost:8080/"
        },
        "outputId": "0c0d0a6d-0627-480a-ead5-0565c731337d"
      },
      "outputs": [
        {
          "name": "stdout",
          "output_type": "stream",
          "text": [
            "Método de Producto medio\n",
            "Ingrese un número de 3 dígitos: 123\n",
            "Ingrese otro número de 3 dígitos: 456\n",
            "x_n1=  123\n",
            "x_n=  456\n",
            "[6, 0, 8]\n",
            "Continuar con la siguiente interacion? si/no: Si\n"
          ]
        }
      ],
      "source": [
        "R=\"si\"\n",
        "print(\"Método de Producto medio\")\n",
        "x_n1=int(input(\"Ingrese un número de 3 dígitos: \"))\n",
        "x_n=int(input(\"Ingrese otro número de 3 dígitos: \"))\n",
        "while R==\"si\":\n",
        "  if R==\"si\":\n",
        "    print(\"x_n1= \", x_n1)\n",
        "    print(\"x_n= \", x_n)\n",
        "    K= x_n * x_n1\n",
        "    D = [int(x) for x in str(K)]\n",
        "    b=[0]\n",
        "    if len(D)%2==0:\n",
        "      S=b+D\n",
        "      Z=S[2:5]\n",
        "      print(Z)\n",
        "      s = ''.join(str(x) for x in Z)\n",
        "      N=int(s)\n",
        "      x_n1=x_n\n",
        "      x_n=N\n",
        "      R=input(\"Continuar con la siguiente interacion? si/no: \")\n",
        "      if R==\"si\":\n",
        "        continue\n",
        "      else:\n",
        "        break\n",
        "    else:\n",
        "      Z=D[1:4]\n",
        "      print(Z)\n",
        "      s = ''.join(str(x) for x in Z)\n",
        "      N=int(s)\n",
        "      x_n1=x_n\n",
        "      x_n=N\n",
        "      R=input(\"Continuar con la siguiente interacion? si/no: \")\n",
        "      if R==\"si\":\n",
        "        continue\n",
        "      else:\n",
        "        break"
      ]
    }
  ]
}